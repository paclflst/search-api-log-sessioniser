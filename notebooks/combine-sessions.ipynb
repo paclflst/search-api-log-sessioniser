{
 "cells": [
  {
   "cell_type": "code",
   "execution_count": 13,
   "id": "e3e76872",
   "metadata": {},
   "outputs": [
    {
     "name": "stdout",
     "output_type": "stream",
     "text": [
      "+--------+--------------------+-------------------+-------------------+--------------------------------+\n",
      "| api_key|         session_key|      session_start|        session_end|                          inputs|\n",
      "+--------+--------------------+-------------------+-------------------+--------------------------------+\n",
      "|WKL6IZCP|cd57397644974f129...|2022-01-23 00:00:08|2022-01-23 07:21:28|  [产权.绝缘.墨镜, 产权.绝缘....|\n",
      "|WKL6IZCP|5f958a32d55e4ac6b...|2022-01-23 07:21:30|2022-01-23 07:21:35| [导航.到新东方.国外, 导航.到...|\n",
      "|WKL6IZCP|5c3c6d34e7da4b65b...|2022-01-23 07:21:36|2022-01-23 07:21:37|[到新东方.国外.学习, 到新东方...|\n",
      "|WKL6IZCP|c187561c46ba4135b...|2022-01-23 07:21:48|2022-01-23 19:40:49|  [产权.绝缘.墨镜, 产权.绝缘....|\n",
      "|WKL6IZCP|5ce39d743670469b8...|2022-01-23 19:40:51|2022-01-23 19:40:51|        [到江.西省.永新县吉安市]|\n",
      "|WKL6IZCP|67f54c2e941f4fbb9...|2022-01-23 19:41:08|2022-01-23 23:59:49|  [产权.绝缘.墨镜, 产权.绝缘....|\n",
      "|1CDQTWQ1|0f6ee4028cc1412ab...|2022-01-23 00:25:22|2022-01-23 00:25:33|            [%D9%85%D8%AB%D9%...|\n",
      "|1CDQTWQ1|e4aaa41404ee43f4b...|2022-01-23 00:36:58|2022-01-23 00:36:58|                              []|\n",
      "|1CDQTWQ1|c418b17f57b4439a9...|2022-01-23 00:55:21|2022-01-23 00:55:21|            [%D9%85%D8%B7%D8%...|\n",
      "|1CDQTWQ1|2e3b55dc16864cf99...|2022-01-23 01:17:34|2022-01-23 01:17:34|               [ذئاب.مزحات.رجوع]|\n",
      "+--------+--------------------+-------------------+-------------------+--------------------------------+\n",
      "only showing top 10 rows\n",
      "\n"
     ]
    }
   ],
   "source": [
    "# Create Spark Context\n",
    "from pyspark import SparkContext\n",
    "from pyspark.sql import SparkSession\n",
    "from pyspark.sql.types import StructType, StructField, StringType, TimestampType, LongType, ArrayType\n",
    "\n",
    "\n",
    "spark = SparkSession \\\n",
    "    .builder \\\n",
    "    .getOrCreate()\n",
    "\n",
    "# Set file\n",
    "path = \"/home/jovyan/work/data/sessions\"\n",
    "output = \"/home/jovyan/work/data/output\"\n",
    "base_path = path\n",
    "\n",
    "session_schema = StructType([\n",
    "        StructField('api_key', StringType(), True),\n",
    "        StructField('session_key', StringType(), True),\n",
    "        StructField('session_start', TimestampType(), True),\n",
    "        StructField('session_end', TimestampType(), True),\n",
    "        StructField('inputs', ArrayType(StringType()), True)])\n",
    "df = spark \\\n",
    "    .read \\\n",
    "    .option('mode', 'DROPMALFORMED') \\\n",
    "    .option('basePath', base_path) \\\n",
    "    .json(f'{path}/*/*.json', schema=session_schema, allowBackslashEscapingAnyCharacter=True)\n",
    "\n",
    "df = df.select('api_key', 'session_key', 'session_start', 'session_end', 'inputs')\n",
    "\n",
    "df.show(10)"
   ]
  },
  {
   "cell_type": "code",
   "execution_count": 14,
   "id": "a64a217f",
   "metadata": {},
   "outputs": [],
   "source": [
    "df.coalesce(1).write \\\n",
    "    .format('json') \\\n",
    "    .mode('overwrite') \\\n",
    "    .save(output)"
   ]
  },
  {
   "cell_type": "code",
   "execution_count": null,
   "id": "85feb3c6",
   "metadata": {},
   "outputs": [],
   "source": []
  }
 ],
 "metadata": {
  "kernelspec": {
   "display_name": "Python 3 (ipykernel)",
   "language": "python",
   "name": "python3"
  },
  "language_info": {
   "codemirror_mode": {
    "name": "ipython",
    "version": 3
   },
   "file_extension": ".py",
   "mimetype": "text/x-python",
   "name": "python",
   "nbconvert_exporter": "python",
   "pygments_lexer": "ipython3",
   "version": "3.9.7"
  }
 },
 "nbformat": 4,
 "nbformat_minor": 5
}
